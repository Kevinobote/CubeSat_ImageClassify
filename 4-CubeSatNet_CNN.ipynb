{
 "cells": [
  {
   "cell_type": "markdown",
   "id": "d3d314ce-fc42-4177-8e88-61666f21acc3",
   "metadata": {},
   "source": [
    "# CubeSatNet Improvements for VERTECS – Team 5"
   ]
  },
  {
   "cell_type": "markdown",
   "id": "59ed05bb-fe72-45c8-aaf4-f067ee02838e",
   "metadata": {},
   "source": [
    "## Notebook 4: Classification using CNN"
   ]
  },
  {
   "cell_type": "markdown",
   "id": "5c0cbf42-add7-486e-9e2d-6f04051b812e",
   "metadata": {},
   "source": [
    "In this notebook, we will use a CNN model to classify the images, following the approach used in the following [paper](https://ui.adsabs.harvard.edu/abs/2023SPIE12729E..0KC/abstract)."
   ]
  },
  {
   "cell_type": "markdown",
   "id": "13095d08-82fa-49dc-8613-e8d4d1320555",
   "metadata": {},
   "source": [
    "---"
   ]
  },
  {
   "cell_type": "code",
   "execution_count": null,
   "id": "10e95632-49c6-4b51-ae8d-368b0b89cf19",
   "metadata": {},
   "outputs": [],
   "source": [
    "# Standard Library Imports\n",
    "import os\n",
    "import sys\n",
    "import warnings\n",
    "import pickle\n",
    "\n",
    "# Third-Party Imports\n",
    "import numpy as np               \n",
    "import pandas as pd              \n",
    "import matplotlib.pyplot as plt  \n",
    "import seaborn as sns            \n",
    "\n",
    "# TensorFlow and Keras Imports\n",
    "import tensorflow as tf\n",
    "from tensorflow.keras.models import Sequential\n",
    "from tensorflow.keras.layers import (\n",
    "    Conv2D,\n",
    "    SeparableConv2D,\n",
    "    MaxPooling2D,\n",
    "    GlobalAveragePooling2D,\n",
    "    Dense,\n",
    "    BatchNormalization,\n",
    "    Dropout\n",
    ")\n",
    "\n",
    "# For one-hot encoding of labels\n",
    "from tensorflow.keras.utils import to_categorical\n",
    "\n",
    "# TensorFlow Model Optimization (for pruning)\n",
    "import tensorflow_model_optimization as tfmot\n",
    "\n",
    "# Optional compatibility import for pruning \n",
    "from tensorflow_model_optimization.python.core.keras.compat import keras\n",
    "\n",
    "# Environment Configuration\n",
    "os.environ['TF_CPP_MIN_LOG_LEVEL'] = '3'\n",
    "warnings.filterwarnings(\"ignore\")\n"
   ]
  },
  {
   "cell_type": "code",
   "execution_count": null,
   "id": "355e8b50-00c2-4009-bdab-79a91fc6f1d8",
   "metadata": {},
   "outputs": [],
   "source": [
    "# Defining a function to save the model as well as measure its size\n",
    "\n",
    "def measure_model_size(model, filename):\n",
    "    # Save the model with pickle\n",
    "    with open(filename, 'wb') as file:\n",
    "        pickle.dump(model, file)\n",
    "    \n",
    "    # Get the file size in bytes\n",
    "    size_bytes = os.path.getsize(filename)\n",
    "    size_kb = size_bytes / 1024.0\n",
    "    size_mb = size_kb / 1024.0\n",
    "    \n",
    "    # Print the file size in different units\n",
    "    print(f\"Model saved to {filename}.\\n\")\n",
    "    print(f\"Size: {size_bytes} bytes ({size_kb:.2f} KB, {size_mb:.2f} MB).\")\n",
    "    \n",
    "    return size_bytes"
   ]
  },
  {
   "cell_type": "markdown",
   "id": "d5f39eb1-6f50-40c3-8468-226c0c8ee6b4",
   "metadata": {
    "editable": true,
    "slideshow": {
     "slide_type": ""
    },
    "tags": []
   },
   "source": [
    "### Reading the data"
   ]
  },
  {
   "cell_type": "markdown",
   "id": "97f576c9-784f-49d2-bf5d-6978edeb89d4",
   "metadata": {},
   "source": [
    "First, we’ll load the saved image and label data from the NumPy files."
   ]
  },
  {
   "cell_type": "code",
   "execution_count": 1,
   "id": "fd4a8dd1-52ed-4514-8cd1-a59980fab45a",
   "metadata": {},
   "outputs": [
    {
     "name": "stdout",
     "output_type": "stream",
     "text": [
      "Data loaded successfully from NumPy files.\n"
     ]
    }
   ],
   "source": [
    "# Load the images and labels back from the saved NumPy files\n",
    "train_images = np.load('data/train_images.npy')  # Load image training data\n",
    "train_labels = np.load('data/train_labels.npy')  # Load label training data\n",
    "\n",
    "print(\"Data loaded successfully from NumPy files.\")"
   ]
  },
  {
   "cell_type": "markdown",
   "id": "3953fc9a-d986-47e1-8872-213f8518cdb7",
   "metadata": {},
   "source": [
    "---"
   ]
  },
  {
   "cell_type": "markdown",
   "id": "04a46294-7dfd-46c0-9146-d53220c58dbb",
   "metadata": {},
   "source": [
    "### Train CubeCatNet CNN model"
   ]
  },
  {
   "cell_type": "markdown",
   "id": "94c005cb-a745-4594-8aab-15b67e0fcdac",
   "metadata": {},
   "source": [
    "We will define and train a Convolutional Neural Network (CNN) model that was defined in [link](https://ui.adsabs.harvard.edu/abs/2023SPIE12729E..0KC/abstract)."
   ]
  },
  {
   "cell_type": "code",
   "execution_count": 2,
   "id": "4f3bf431-8219-4efa-ba9f-b465d789f44b",
   "metadata": {},
   "outputs": [
    {
     "name": "stderr",
     "output_type": "stream",
     "text": [
      "2025-03-06 15:01:44.678412: I external/local_xla/xla/tsl/cuda/cudart_stub.cc:32] Could not find cuda drivers on your machine, GPU will not be used.\n",
      "2025-03-06 15:01:44.684978: I external/local_xla/xla/tsl/cuda/cudart_stub.cc:32] Could not find cuda drivers on your machine, GPU will not be used.\n",
      "2025-03-06 15:01:44.697200: E external/local_xla/xla/stream_executor/cuda/cuda_fft.cc:477] Unable to register cuFFT factory: Attempting to register factory for plugin cuFFT when one has already been registered\n",
      "WARNING: All log messages before absl::InitializeLog() is called are written to STDERR\n",
      "E0000 00:00:1741266104.717723  114721 cuda_dnn.cc:8310] Unable to register cuDNN factory: Attempting to register factory for plugin cuDNN when one has already been registered\n",
      "E0000 00:00:1741266104.723841  114721 cuda_blas.cc:1418] Unable to register cuBLAS factory: Attempting to register factory for plugin cuBLAS when one has already been registered\n",
      "2025-03-06 15:01:44.745907: I tensorflow/core/platform/cpu_feature_guard.cc:210] This TensorFlow binary is optimized to use available CPU instructions in performance-critical operations.\n",
      "To enable the following instructions: AVX2 AVX512F FMA, in other operations, rebuild TensorFlow with the appropriate compiler flags.\n"
     ]
    },
    {
     "name": "stdout",
     "output_type": "stream",
     "text": [
      "Train labels shape:  (9711, 5)\n"
     ]
    }
   ],
   "source": [
    "# One-hot encode the labels (assuming you have 5 classes)\n",
    "train_labels = to_categorical(train_labels, num_classes=5)\n",
    "\n",
    "print(\"Train labels shape: \", train_labels.shape)"
   ]
  },
  {
   "cell_type": "code",
   "execution_count": 3,
   "id": "87e6b97e-fc01-4be6-8803-04f4e5ea8265",
   "metadata": {},
   "outputs": [
    {
     "name": "stdout",
     "output_type": "stream",
     "text": [
      "Sampled model defined successfully.\n",
      "Model: \"sequential\"\n",
      "_________________________________________________________________\n",
      " Layer (type)                Output Shape              Param #   \n",
      "=================================================================\n",
      " separable_conv2d (Separabl  (None, 256, 256, 16)      91        \n",
      " eConv2D)                                                        \n",
      "                                                                 \n",
      " max_pooling2d (MaxPooling2  (None, 128, 128, 16)      0         \n",
      " D)                                                              \n",
      "                                                                 \n",
      " separable_conv2d_1 (Separa  (None, 64, 64, 32)        688       \n",
      " bleConv2D)                                                      \n",
      "                                                                 \n",
      " max_pooling2d_1 (MaxPoolin  (None, 32, 32, 32)        0         \n",
      " g2D)                                                            \n",
      "                                                                 \n",
      " separable_conv2d_2 (Separa  (None, 16, 16, 64)        2400      \n",
      " bleConv2D)                                                      \n",
      "                                                                 \n",
      " max_pooling2d_2 (MaxPoolin  (None, 8, 8, 64)          0         \n",
      " g2D)                                                            \n",
      "                                                                 \n",
      " separable_conv2d_3 (Separa  (None, 4, 4, 128)         8896      \n",
      " bleConv2D)                                                      \n",
      "                                                                 \n",
      " max_pooling2d_3 (MaxPoolin  (None, 2, 2, 128)         0         \n",
      " g2D)                                                            \n",
      "                                                                 \n",
      " global_average_pooling2d (  (None, 128)               0         \n",
      " GlobalAveragePooling2D)                                         \n",
      "                                                                 \n",
      " dense (Dense)               (None, 5)                 645       \n",
      "                                                                 \n",
      "=================================================================\n",
      "Total params: 12720 (49.69 KB)\n",
      "Trainable params: 12720 (49.69 KB)\n",
      "Non-trainable params: 0 (0.00 Byte)\n",
      "_________________________________________________________________\n"
     ]
    },
    {
     "name": "stderr",
     "output_type": "stream",
     "text": [
      "2025-03-06 15:01:52.643596: E external/local_xla/xla/stream_executor/cuda/cuda_driver.cc:152] failed call to cuInit: INTERNAL: CUDA error: Failed call to cuInit: UNKNOWN ERROR (303)\n"
     ]
    }
   ],
   "source": [
    "from tensorflow_model_optimization.python.core.keras.compat import keras\n",
    "\n",
    "# Define the sampled model using depthwise separable convolutions: MAIN best archietcure so far\n",
    "model_for_pruning = keras.Sequential([\n",
    "    # First stage: Depthwise separable conv with stride and then MaxPooling\n",
    "    keras.layers.SeparableConv2D(16, (3, 3), strides=(2, 2), padding='same',\n",
    "                                 activation='relu', input_shape=(512, 512, 3)),\n",
    "    keras.layers.MaxPooling2D((2, 2), strides=(2, 2), padding='same'),\n",
    "    \n",
    "    # Second stage\n",
    "    keras.layers.SeparableConv2D(32, (3, 3), strides=(2, 2), padding='same',\n",
    "                                 activation='relu'),\n",
    "    keras.layers.MaxPooling2D((2, 2), strides=(2, 2), padding='same'),\n",
    "    \n",
    "    # Third stage\n",
    "    keras.layers.SeparableConv2D(64, (3, 3), strides=(2, 2), padding='same',\n",
    "                                 activation='relu'),\n",
    "    keras.layers.MaxPooling2D((2, 2), strides=(2, 2), padding='same'),\n",
    "    \n",
    "    # Fourth stage\n",
    "    keras.layers.SeparableConv2D(128, (3, 3), strides=(2, 2), padding='same',\n",
    "                                 activation='relu'),\n",
    "    keras.layers.MaxPooling2D((2, 2), strides=(2, 2), padding='same'),\n",
    "    \n",
    "    # Global pooling and classification head\n",
    "    keras.layers.GlobalAveragePooling2D(),\n",
    "    keras.layers.Dense(5, activation='softmax')\n",
    "])\n",
    "\n",
    "print(\"Sampled model defined successfully.\")\n",
    "model_for_pruning.summary()"
   ]
  },
  {
   "cell_type": "code",
   "execution_count": 5,
   "id": "2fcc6625-2152-4333-bcab-aa8d1a5440e9",
   "metadata": {},
   "outputs": [
    {
     "name": "stdout",
     "output_type": "stream",
     "text": [
      "Model compiled successfully.\n"
     ]
    }
   ],
   "source": [
    "# Compile the model with appropriate loss function, optimizer, and metrics\n",
    "# # Compile the initial model for pruning \n",
    "\n",
    "model_for_pruning.compile(\n",
    "    optimizer='adam', \n",
    "    loss='categorical_crossentropy', \n",
    "    metrics=['accuracy']\n",
    ")\n",
    "\n",
    "print(\"Model compiled successfully.\")"
   ]
  },
  {
   "cell_type": "code",
   "execution_count": 6,
   "id": "c166faae-17ab-4b45-a7f9-a334afd8494e",
   "metadata": {},
   "outputs": [
    {
     "name": "stdout",
     "output_type": "stream",
     "text": [
      "train_images shape: (9711, 512, 512, 3)\n",
      "train_labels shape: (9711, 5)\n"
     ]
    }
   ],
   "source": [
    "print(\"train_images shape:\", train_images.shape)  # Should be (num_samples, height, width, channels)\n",
    "print(\"train_labels shape:\", train_labels.shape)  # Should be (num_samples, 5)"
   ]
  },
  {
   "cell_type": "code",
   "execution_count": 7,
   "id": "c39b40f8-0ddc-423a-b512-4e2e3c8dd1bf",
   "metadata": {},
   "outputs": [],
   "source": [
    "# print(\"Before reshape:\", train_labels.shape)  # (9711, 5, 5)\n",
    "# train_labels = train_labels.reshape(-1, 5)\n",
    "# print(\"After reshape:\", train_labels.shape) "
   ]
  },
  {
   "cell_type": "code",
   "execution_count": 8,
   "id": "ab27f0ef-6a47-4058-ac5e-433772994abb",
   "metadata": {},
   "outputs": [],
   "source": [
    "def prune_model(model, initial_sparsity=0.0, final_sparsity=0.5, begin_step=0, end_step=1000):\n",
    "    \"\"\"\n",
    "    Apply pruning to the model with the specified parameters\n",
    "    \"\"\"\n",
    "    pruning_params = {\n",
    "        'pruning_schedule': tfmot.sparsity.keras.PolynomialDecay(\n",
    "            initial_sparsity=initial_sparsity,\n",
    "            final_sparsity=final_sparsity,\n",
    "            begin_step=begin_step,\n",
    "            end_step=end_step\n",
    "        )\n",
    "    }\n",
    "    \n",
    "    # Wrap the model for pruning\n",
    "    pruned_model = tfmot.sparsity.keras.prune_low_magnitude(model, **pruning_params)\n",
    "    \n",
    "    # Compile the pruned model\n",
    "    pruned_model.compile(\n",
    "        optimizer='adam',\n",
    "        loss='categorical_crossentropy',\n",
    "        metrics=['accuracy']\n",
    "    )\n",
    "    \n",
    "    return pruned_model"
   ]
  },
  {
   "cell_type": "code",
   "execution_count": 9,
   "id": "a5787a59-fcb2-4de9-8c10-d36edcc9167a",
   "metadata": {},
   "outputs": [
    {
     "name": "stdout",
     "output_type": "stream",
     "text": [
      "Pruned model defined and compiled successfully.\n"
     ]
    }
   ],
   "source": [
    "# 3. Apply pruning to the model using the provided function\n",
    "import tensorflow_model_optimization as tfmot\n",
    "\n",
    "pruned_model = prune_model(\n",
    "    model_for_pruning, \n",
    "    initial_sparsity=0.0, \n",
    "    final_sparsity=0.5, \n",
    "    begin_step=0, \n",
    "    end_step=1000\n",
    ")\n",
    "\n",
    "print(\"Pruned model defined and compiled successfully.\")"
   ]
  },
  {
   "cell_type": "code",
   "execution_count": 10,
   "id": "991b28af-dfa4-4c81-9cd2-46e758e7a95b",
   "metadata": {},
   "outputs": [],
   "source": [
    "# Set up pruning callbacks (updates pruning step and logs summaries)\n",
    "callbacks = [\n",
    "    tfmot.sparsity.keras.UpdatePruningStep(),\n",
    "    tfmot.sparsity.keras.PruningSummaries(log_dir='./logs')\n",
    "]"
   ]
  },
  {
   "cell_type": "code",
   "execution_count": 11,
   "id": "cc1dcd00-6901-4368-8f97-b4450fae1eff",
   "metadata": {},
   "outputs": [
    {
     "name": "stdout",
     "output_type": "stream",
     "text": [
      "Epoch 1/10\n",
      "152/152 [==============================] - 64s 401ms/step - loss: 0.8532 - accuracy: 0.6599\n",
      "Epoch 2/10\n",
      "152/152 [==============================] - 62s 406ms/step - loss: 0.3220 - accuracy: 0.9010\n",
      "Epoch 3/10\n",
      "152/152 [==============================] - 60s 396ms/step - loss: 0.1327 - accuracy: 0.9665\n",
      "Epoch 4/10\n",
      "152/152 [==============================] - 61s 405ms/step - loss: 0.0576 - accuracy: 0.9863\n",
      "Epoch 5/10\n",
      "152/152 [==============================] - 63s 412ms/step - loss: 0.0334 - accuracy: 0.9912\n",
      "Epoch 6/10\n",
      "152/152 [==============================] - 62s 405ms/step - loss: 0.0208 - accuracy: 0.9939\n",
      "Epoch 7/10\n",
      "152/152 [==============================] - 61s 399ms/step - loss: 0.0141 - accuracy: 0.9960\n",
      "Epoch 8/10\n",
      "152/152 [==============================] - 62s 405ms/step - loss: 0.0134 - accuracy: 0.9955\n",
      "Epoch 9/10\n",
      "152/152 [==============================] - 63s 416ms/step - loss: 0.0100 - accuracy: 0.9970\n",
      "Epoch 10/10\n",
      "152/152 [==============================] - 69s 455ms/step - loss: 0.0075 - accuracy: 0.9978\n",
      "\n",
      "Model training complete.\n",
      "Pruned model training complete.\n"
     ]
    }
   ],
   "source": [
    "# Train the model on the training data\n",
    "history = pruned_model.fit(\n",
    "    train_images, train_labels,\n",
    "    epochs=10,  # Number of epochs\n",
    "    batch_size=64,  # Batch size\n",
    "    callbacks=callbacks # only used when pruning the model\n",
    ")\n",
    "\n",
    "print(\"\\nModel training complete.\")\n",
    "print(\"Pruned model training complete.\")"
   ]
  },
  {
   "cell_type": "markdown",
   "id": "1e492238-94c9-4576-962a-a6a6cb57da6d",
   "metadata": {},
   "source": [
    "The model only takes about 11 minutes and 12 seconds to train ie for the depth separable conv2D"
   ]
  },
  {
   "cell_type": "code",
   "execution_count": 12,
   "id": "dfad35b0-52d7-46b3-a50d-2a2573b6c30f",
   "metadata": {},
   "outputs": [
    {
     "data": {
      "image/png": "[encoded data removed]",
      "text/plain": [
       "<Figure size 1400x800 with 2 Axes>"
      ]
     },
     "metadata": {},
     "output_type": "display_data"
    }
   ],
   "source": [
    "# Assuming 'history' is the History object returned by model.fit()\n",
    "acc = history.history['accuracy']\n",
    "loss = history.history['loss']\n",
    "epochs = range(1, len(acc) + 1)\n",
    "\n",
    "# Create a DataFrame for easier plotting with seaborn\n",
    "data = pd.DataFrame({\n",
    "    'Epoch': epochs,\n",
    "    'Accuracy': acc,\n",
    "    'Loss': loss\n",
    "})\n",
    "\n",
    "# Set a Seaborn theme for improved aesthetics\n",
    "sns.set_theme(style=\"darkgrid\")\n",
    "\n",
    "# Create subplots\n",
    "fig, axes = plt.subplots(1, 2, figsize=(14, 8))\n",
    "\n",
    "# Plot training accuracy using seaborn lineplot\n",
    "sns.lineplot(data=data, x='Epoch', y='Accuracy', marker=\"o\", ax=axes[0])\n",
    "axes[0].set_title('Training Accuracy')\n",
    "axes[0].set_xlabel('Epochs')\n",
    "axes[0].set_ylabel('Accuracy')\n",
    "\n",
    "# Plot training loss using seaborn lineplot\n",
    "sns.lineplot(data=data, x='Epoch', y='Loss', marker=\"o\", color='r', ax=axes[1])\n",
    "axes[1].set_title('Training Loss')\n",
    "axes[1].set_xlabel('Epochs')\n",
    "axes[1].set_ylabel('Loss')\n",
    "\n",
    "plt.tight_layout()\n",
    "plt.show()"
   ]
  },
  {
   "cell_type": "markdown",
   "id": "19f2e982-af38-461e-86da-bfd9a901fe82",
   "metadata": {},
   "source": [
    "##### **Saving the CNN model**"
   ]
  },
  {
   "cell_type": "code",
   "execution_count": 15,
   "id": "873625a0-45b5-4ff9-a219-8227b3041f23",
   "metadata": {},
   "outputs": [
    {
     "name": "stdout",
     "output_type": "stream",
     "text": [
      "WARNING:tensorflow:Compiled the loaded model, but the compiled metrics have yet to be built. `model.compile_metrics` will be empty until you train or evaluate the model.\n",
      "Final pruned model saved as .h5.\n"
     ]
    }
   ],
   "source": [
    "# Strip the pruning wrappers to get the final model\n",
    "\n",
    "final_model = tfmot.sparsity.keras.strip_pruning(pruned_model)\n",
    "\n",
    "# Save the final pruned model\n",
    "final_model.save('models/cnn_model_full_SepConv2D_pruned_model_V2.h5')\n",
    "\n",
    "print(\"Final pruned model saved as .h5.\")"
   ]
  },
  {
   "cell_type": "code",
   "execution_count": 16,
   "id": "e57f0d85-bc1e-4449-ac7e-11dc0dad8566",
   "metadata": {},
   "outputs": [
    {
     "name": "stdout",
     "output_type": "stream",
     "text": [
      "Model saved to models/cnn_model_full_separableConv2D_pruned_V1.pkl.\n",
      "\n",
      "Size: 85278 bytes (83.28 KB, 0.08 MB).\n",
      "Final pruned model saved as pkl.\n"
     ]
    }
   ],
   "source": [
    "# Example usage:\n",
    "model_size = measure_model_size(final_model, 'models/cnn_model_full_separableConv2D_pruned_V1.pkl')\n",
    "\n",
    "print(\"Final pruned model saved as pkl.\")"
   ]
  },
  {
   "cell_type": "code",
   "execution_count": 17,
   "id": "5a123927-9d9a-4947-b9b7-1caee56ae0f2",
   "metadata": {},
   "outputs": [],
   "source": [
    "# import pickle\n",
    "\n",
    "# with open('cnn_model_v1.pkl', 'wb') as file:\n",
    "#     pickle.dump(model, file)"
   ]
  },
  {
   "cell_type": "code",
   "execution_count": 17,
   "id": "5d81a325-322d-44be-bc36-7bea97175fa3",
   "metadata": {},
   "outputs": [
    {
     "name": "stdout",
     "output_type": "stream",
     "text": [
      "train_images, and train_labels removed from memory.\n"
     ]
    }
   ],
   "source": [
    "import gc\n",
    "\n",
    "# Since we will no longer need the original training data (train_images), we can remove it from memory\n",
    "del train_images, train_labels\n",
    "\n",
    "# Force garbage collection to free up memory\n",
    "gc.collect()\n",
    "\n",
    "print(\"train_images, and train_labels removed from memory.\")"
   ]
  },
  {
   "cell_type": "markdown",
   "id": "bd15bddd-54b7-48a5-91cd-1acad907826a",
   "metadata": {},
   "source": [
    "---"
   ]
  },
  {
   "cell_type": "markdown",
   "id": "499dfaae-6af1-456d-92dc-dcd1e5a4b7d0",
   "metadata": {},
   "source": [
    "### Deep learning: Validation set results"
   ]
  },
  {
   "cell_type": "code",
   "execution_count": 18,
   "id": "291c88b2-4fe2-4216-bcac-02966189bcc8",
   "metadata": {},
   "outputs": [
    {
     "name": "stdout",
     "output_type": "stream",
     "text": [
      "Train validation labels shape:  (3237, 5)\n"
     ]
    }
   ],
   "source": [
    "val_images = np.load('data/val_images.npy')  # Load image val data\n",
    "val_labels = np.load('data/val_labels.npy')  # Load label val data\n",
    "\n",
    "val_labels = to_categorical(val_labels, num_classes=5)\n",
    "\n",
    "print(\"Train validation labels shape: \", val_labels.shape)"
   ]
  },
  {
   "cell_type": "code",
   "execution_count": 19,
   "id": "38b820a0-83c6-41f9-929a-9f3a67827904",
   "metadata": {},
   "outputs": [
    {
     "name": "stdout",
     "output_type": "stream",
     "text": [
      "102/102 [==============================] - 8s 81ms/step\n"
     ]
    }
   ],
   "source": [
    "with open('models/cnn_model_full_separableConv2D_pruned_V1.pkl', 'rb') as file:\n",
    "    cnn_loaded_model = pickle.load(file)\n",
    "    \n",
    "val_predictions = cnn_loaded_model.predict(val_images)"
   ]
  },
  {
   "cell_type": "code",
   "execution_count": 20,
   "id": "03f5a607-5aa3-4106-aeb7-f1dfbb534ab4",
   "metadata": {},
   "outputs": [
    {
     "name": "stdout",
     "output_type": "stream",
     "text": [
      "\n",
      "Classification Report:\n",
      "              precision    recall  f1-score   support\n",
      "\n",
      "           0       1.00      0.99      0.99       727\n",
      "           1       1.00      1.00      1.00       222\n",
      "           2       1.00      1.00      1.00       421\n",
      "           3       1.00      1.00      1.00       721\n",
      "           4       1.00      1.00      1.00      1146\n",
      "\n",
      "    accuracy                           1.00      3237\n",
      "   macro avg       1.00      1.00      1.00      3237\n",
      "weighted avg       1.00      1.00      1.00      3237\n",
      "\n"
     ]
    }
   ],
   "source": [
    "from sklearn.metrics import classification_report, confusion_matrix\n",
    "\n",
    "# Convert from one-hot or probability distributions to single integer class indices\n",
    "val_predictions = np.argmax(val_predictions, axis=1) \n",
    "val_labels = np.argmax(val_labels, axis=1) \n",
    "\n",
    "\n",
    "# Detailed classification report\n",
    "print(\"\\nClassification Report:\")\n",
    "print(classification_report(val_labels, val_predictions))"
   ]
  },
  {
   "cell_type": "code",
   "execution_count": 21,
   "id": "a057ecbb-bc27-4ec1-a658-3f589c64b5b0",
   "metadata": {},
   "outputs": [
    {
     "data": {
      "image/png": "[encoded data removed]",
      "text/plain": [
       "<Figure size 800x800 with 2 Axes>"
      ]
     },
     "metadata": {},
     "output_type": "display_data"
    }
   ],
   "source": [
    "import matplotlib.pyplot as plt\n",
    "import numpy as np\n",
    "from sklearn.metrics import confusion_matrix, ConfusionMatrixDisplay\n",
    "\n",
    "# Define class names\n",
    "class_names = [\"Blurry\", \"Corrupt\", \"Missing_Data\", \"Noisy\", \"Priority\"]\n",
    "\n",
    "# Compute the confusion matrix\n",
    "cm = confusion_matrix(val_labels, val_predictions)\n",
    "\n",
    "# Plot the confusion matrix with class names\n",
    "disp = ConfusionMatrixDisplay(confusion_matrix=cm, display_labels=class_names)\n",
    "\n",
    "# Customize and display the plot\n",
    "fig, ax = plt.subplots(figsize=(8, 8))  # Set the figure size\n",
    "disp.plot(ax=ax, cmap='Blues', xticks_rotation='vertical')  # Use a blue colormap\n",
    "plt.title(\"Confusion Matrix with Class Names\")\n",
    "plt.show()"
   ]
  },
  {
   "cell_type": "code",
   "execution_count": null,
   "id": "e86acd8b-6523-4c7e-8069-20d1555945e9",
   "metadata": {},
   "outputs": [],
   "source": []
  },
  {
   "cell_type": "markdown",
   "id": "f8bd9ea9-aa11-4f94-be51-b406ff860735",
   "metadata": {},
   "source": [
    "---"
   ]
  },
  {
   "cell_type": "markdown",
   "id": "61d5cfc3-f2cd-4918-a85f-b3f1f7a9e505",
   "metadata": {},
   "source": [
    "##### **⚠️ Freeing up Space**"
   ]
  },
  {
   "cell_type": "code",
   "execution_count": 31,
   "id": "ec17f896-bbef-4caa-9b56-ba9d228dfaa5",
   "metadata": {},
   "outputs": [
    {
     "name": "stdout",
     "output_type": "stream",
     "text": [
      "Data removed from memory.\n"
     ]
    }
   ],
   "source": [
    "import gc\n",
    "\n",
    "# Since we will no longer need the original training data (train_images), we can remove it from memory\n",
    "del val_predictions, val_labels, val_images\n",
    "\n",
    "# Force garbage collection to free up memory\n",
    "gc.collect()\n",
    "\n",
    "%reset -f\n",
    "print(\"Data removed from memory.\")"
   ]
  },
  {
   "cell_type": "markdown",
   "id": "a01be5fd-f911-410b-81e4-f0cd21f4cb4f",
   "metadata": {},
   "source": []
  },
  {
   "cell_type": "markdown",
   "id": "dde9d935-fda3-4ea3-8b33-4d5bd7cefc3a",
   "metadata": {},
   "source": [
    "---"
   ]
  },
  {
   "cell_type": "markdown",
   "id": "564a8f20-9ccb-4b2c-a48e-4e47cde87b2b",
   "metadata": {},
   "source": [
    "### Saving the Final Quantized model"
   ]
  },
  {
   "cell_type": "code",
   "execution_count": 22,
   "id": "00f79281-d3a1-4d87-a081-b3105e3c219a",
   "metadata": {},
   "outputs": [],
   "source": [
    "def quantize_model(model, output_path):\n",
    "    \"\"\"\n",
    "    Apply post-training quantization to the pruned model and save as TFLite\n",
    "    \"\"\"\n",
    "    # Convert the model to a TFLite model with post-training quantization\n",
    "    converter = tf.lite.TFLiteConverter.from_keras_model(model)\n",
    "    converter.optimizations = [tf.lite.Optimize.DEFAULT]\n",
    "    quantized_tflite_model = converter.convert()\n",
    "    \n",
    "    # Save the quantized TFLite model\n",
    "    with open(output_path, 'wb') as f:\n",
    "        f.write(quantized_tflite_model)\n",
    "    \n",
    "    print(f\"Quantized TFLite model saved at: {output_path}\")\n",
    "    return quantized_tflite_model"
   ]
  },
  {
   "cell_type": "code",
   "execution_count": 24,
   "id": "218a4bcb-34ff-4938-86c4-58d30c7d5d4f",
   "metadata": {},
   "outputs": [
    {
     "name": "stdout",
     "output_type": "stream",
     "text": [
      "INFO:tensorflow:Assets written to: /tmp/tmp5rsylb0c/assets\n"
     ]
    },
    {
     "name": "stderr",
     "output_type": "stream",
     "text": [
      "INFO:tensorflow:Assets written to: /tmp/tmp5rsylb0c/assets\n"
     ]
    },
    {
     "name": "stdout",
     "output_type": "stream",
     "text": [
      "Quantized TFLite model saved at: models/cnn_model_full_SepConv2D_quantized_model_V1.tflite\n"
     ]
    },
    {
     "name": "stderr",
     "output_type": "stream",
     "text": [
      "W0000 00:00:1741267003.555371  114721 tf_tfl_flatbuffer_helpers.cc:365] Ignored output_format.\n",
      "W0000 00:00:1741267003.555411  114721 tf_tfl_flatbuffer_helpers.cc:368] Ignored drop_control_dependency.\n",
      "2025-03-06 15:16:43.555619: I tensorflow/cc/saved_model/reader.cc:83] Reading SavedModel from: /tmp/tmp5rsylb0c\n",
      "2025-03-06 15:16:43.557652: I tensorflow/cc/saved_model/reader.cc:52] Reading meta graph with tags { serve }\n",
      "2025-03-06 15:16:43.557673: I tensorflow/cc/saved_model/reader.cc:147] Reading SavedModel debug info (if present) from: /tmp/tmp5rsylb0c\n",
      "2025-03-06 15:16:43.566753: I tensorflow/cc/saved_model/loader.cc:236] Restoring SavedModel bundle.\n",
      "2025-03-06 15:16:43.594318: I tensorflow/cc/saved_model/loader.cc:220] Running initialization op on SavedModel bundle at path: /tmp/tmp5rsylb0c\n",
      "2025-03-06 15:16:43.605893: I tensorflow/cc/saved_model/loader.cc:466] SavedModel load for tags { serve }; Status: success: OK. Took 50275 microseconds.\n"
     ]
    }
   ],
   "source": [
    "# Apply post-training quantization to the final model and save as a TFLite model\n",
    "\n",
    "quantized_model = quantize_model(\n",
    "    final_model, \n",
    "    output_path='models/cnn_model_full_SepConv2D_quantized_model_V1.tflite'\n",
    ")"
   ]
  },
  {
   "cell_type": "code",
   "execution_count": 25,
   "id": "2503e9e2-bd08-4aaf-a0e4-8b94a9b4e7ef",
   "metadata": {},
   "outputs": [],
   "source": [
    "def get_model_size(file_path):\n",
    "    \n",
    "    size_bytes = os.path.getsize(file_path)\n",
    "    size_kb = size_bytes / 1024         # Convert bytes to kilobytes\n",
    "    size_mb = size_bytes / (1024 * 1024)  # Convert bytes to megabytes\n",
    "    \n",
    "    return size_kb, size_mb"
   ]
  },
  {
   "cell_type": "code",
   "execution_count": 26,
   "id": "fcb6709b-23ad-46b6-ba12-2ea77ce07bad",
   "metadata": {},
   "outputs": [
    {
     "name": "stdout",
     "output_type": "stream",
     "text": [
      "Model size: 28.28 KB (0.03 MB)\n"
     ]
    }
   ],
   "source": [
    "# Example usage:\n",
    "model_path = 'models/cnn_model_full_SepConv2D_quantized_model_V1.tflite'\n",
    "\n",
    "kb, mb = get_model_size(model_path)\n",
    "\n",
    "print(\"Model size: %.2f KB (%.2f MB)\" % (kb, mb))"
   ]
  },
  {
   "cell_type": "code",
   "execution_count": null,
   "id": "195e4064-b2e8-429f-9041-bde80bf4ea0f",
   "metadata": {},
   "outputs": [],
   "source": []
  }
 ],
 "metadata": {
  "kernelspec": {
   "display_name": "Python 3",
   "language": "python",
   "name": "python3"
  },
  "language_info": {
   "codemirror_mode": {
    "name": "ipython",
    "version": 3
   },
   "file_extension": ".py",
   "mimetype": "text/x-python",
   "name": "python",
   "nbconvert_exporter": "python",
   "pygments_lexer": "ipython3",
   "version": "3.10.12"
  }
 },
 "nbformat": 4,
 "nbformat_minor": 5
}
